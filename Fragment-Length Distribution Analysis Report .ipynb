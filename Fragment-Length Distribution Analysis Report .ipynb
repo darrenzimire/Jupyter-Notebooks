{
 "cells": [
  {
   "cell_type": "markdown",
   "metadata": {},
   "source": [
    "## Introduction: Analysis report for modeling the fragment-length distributions of public RNA-seq data \n",
    "\n",
    "In this notebook I walk through fitting statistical distributions to public RNA-sequencing data. \n",
    "\n",
    "The objective here is to model the fragmentation process that was used to generate the RNA-seq data. These \n",
    "\n",
    "The resulting models are used for simulating synthetic RNA-seq data. \n"
   ]
  },
  {
   "cell_type": "markdown",
   "metadata": {},
   "source": [
    "### Imports \n",
    "\n",
    "The following standard data science, machine-learning libraries in Python will be used: Pandas, sklearn, numpy and scipy. We will also use the matplotlib and seaborn libraries for visualization.\n"
   ]
  },
  {
   "cell_type": "code",
   "execution_count": 25,
   "metadata": {},
   "outputs": [],
   "source": [
    "import numpy as np\n",
    "import pandas as pd \n",
    "import os\n",
    "import matplotlib.pyplot as plt\n",
    "from sklearn.preprocessing import StandardScaler\n",
    "from sklearn.mixture import GaussianMixture as GMM\n",
    "from scipy.stats import norm\n",
    "import seaborn as sns \n",
    "import json   \n",
    "%matplotlib inline\n"
   ]
  },
  {
   "cell_type": "markdown",
   "metadata": {},
   "source": [
    "### Loading the data and examine\n",
    "\n",
    "We start off by loading the aligned RNA-seq data (in SAM format) into the program by searching for a file with a '.sam' extension in the current working directory. Once the file is detected, we extract the 9th column from the file,  which is the template length representing the aligned fragment-length or insert. This data is then sequentially written to a python list for storage. \n"
   ]
  },
  {
   "cell_type": "code",
   "execution_count": 20,
   "metadata": {},
   "outputs": [
    {
     "name": "stdout",
     "output_type": "stream",
     "text": [
      "<class 'numpy.ndarray'>\n"
     ]
    },
    {
     "data": {
      "image/png": "[encoded data removed]",
      "text/plain": [
       "<Figure size 720x360 with 2 Axes>"
      ]
     },
     "metadata": {
      "needs_background": "light"
     },
     "output_type": "display_data"
    }
   ],
   "source": [
    "# samFile = ''\n",
    "# for file in os.listdir('.'):\n",
    "#     if file.endswith('.sam'):\n",
    "#         samFile = os.path.join('.', file)\n",
    "\n",
    "file1 = 'GC6_SUN_control_140624_2019.sam'\n",
    "file2 = 'DCM2sorted.unique.sam'\n",
    "\n",
    "with open(file1, 'r') as f1, open(file2, 'r') as f2:\n",
    "    \n",
    "    FL_1 = []\n",
    "    FL_2 = []\n",
    "    for line in f1:\n",
    "\n",
    "        if line[0] != '@':\n",
    "            parts = line.split('\\t')\n",
    "            # print(parts)\n",
    "            TLEN = parts[8]\n",
    "            FL_1.append(TLEN)\n",
    "\n",
    "    FL = list(map(int, FL_1))\n",
    "    FLS = FL.sort()\n",
    "    NEG = []\n",
    "    POS = []\n",
    "\n",
    "    for i in FL:\n",
    "        if i >= 0:\n",
    "            POS.append(i)\n",
    "\n",
    "    data1 = np.array(POS)\n",
    "    datalog1 = np.log(data1)\n",
    "    print(type(datalog1))\n",
    "    for line in f2:\n",
    "\n",
    "        if line[0] != '@':\n",
    "            parts = line.split('\\t')\n",
    "            # print(parts)\n",
    "            TLEN = parts[8]\n",
    "            FL_2.append(TLEN)\n",
    "\n",
    "    FL2 = list(map(int, FL_2))\n",
    "    FLS = FL.sort()\n",
    "    NEG = []\n",
    "    POS = []\n",
    "    \n",
    "    for i in FL2:\n",
    "        if i >= 0:\n",
    "            POS.append(i)\n",
    "\n",
    "    data2 = np.array(POS)\n",
    "    datalog2 = np.log(data2)\n",
    "    print('Number of fragments detected in' +  str(file1) + \" = \" len(datalog1))\n",
    "    print('Number of fragments detected in' +  str(file2) + \" = \" len(datalog2))\n",
    "\n",
    "    np.linspace(datalog1.min(), datalog2.max(), 200)\n",
    "    fig, axes = plt.subplots(nrows=1, ncols=2, figsize=(10, 5))\n",
    "\n",
    "    sns.axes_style('darkgrid')\n",
    "    y1 = datalog1\n",
    "    y2 = datalog2\n",
    "    x1 = sns.distplot(datalog1, color='b', kde=True, hist=True, bins=1000, ax=axes[0],label='GC6')\n",
    "\n",
    "    x2 = sns.distplot(datalog2, color='b', kde=True, hist=True, bins=1000, ax=axes[1],label='Heart')\n",
    "\n",
    "    x1.set_xlabel('Fragment length (log-scale)')\n",
    "    x1.set_ylabel('Probability Density')\n",
    "    x2.set_xlabel('Fragment size (log-scale')\n",
    "    x2.set_ylabel('Probability Density')\n",
    "    \n",
    "    fig.tight_layout()\n",
    "    plt.show()"
   ]
  },
  {
   "cell_type": "markdown",
   "metadata": {},
   "source": [
    "### Fit the data to statistical distributions \n",
    "\n",
    "\n"
   ]
  },
  {
   "cell_type": "code",
   "execution_count": 37,
   "metadata": {},
   "outputs": [
    {
     "data": {
      "text/html": [
       "<div>\n",
       "<style scoped>\n",
       "    .dataframe tbody tr th:only-of-type {\n",
       "        vertical-align: middle;\n",
       "    }\n",
       "\n",
       "    .dataframe tbody tr th {\n",
       "        vertical-align: top;\n",
       "    }\n",
       "\n",
       "    .dataframe thead th {\n",
       "        text-align: right;\n",
       "    }\n",
       "</style>\n",
       "<table border=\"1\" class=\"dataframe\">\n",
       "  <thead>\n",
       "    <tr style=\"text-align: right;\">\n",
       "      <th></th>\n",
       "      <th>Means</th>\n",
       "      <th>Covariances</th>\n",
       "      <th>Weights</th>\n",
       "      <th>AIC</th>\n",
       "      <th>BIC</th>\n",
       "    </tr>\n",
       "  </thead>\n",
       "  <tbody>\n",
       "    <tr>\n",
       "      <th>model_1</th>\n",
       "      <td>7.416060</td>\n",
       "      <td>0.544555</td>\n",
       "      <td>0.238955</td>\n",
       "      <td>67565347.00</td>\n",
       "      <td>67565376.42</td>\n",
       "    </tr>\n",
       "    <tr>\n",
       "      <th>model_2</th>\n",
       "      <td>5.441819</td>\n",
       "      <td>0.200179</td>\n",
       "      <td>0.586818</td>\n",
       "      <td>58136005.90</td>\n",
       "      <td>58136079.46</td>\n",
       "    </tr>\n",
       "    <tr>\n",
       "      <th>model_3</th>\n",
       "      <td>9.088143</td>\n",
       "      <td>1.056470</td>\n",
       "      <td>0.174228</td>\n",
       "      <td>58099069.67</td>\n",
       "      <td>58099187.36</td>\n",
       "    </tr>\n",
       "  </tbody>\n",
       "</table>\n",
       "</div>"
      ],
      "text/plain": [
       "            Means  Covariances   Weights          AIC          BIC\n",
       "model_1  7.416060     0.544555  0.238955  67565347.00  67565376.42\n",
       "model_2  5.441819     0.200179  0.586818  58136005.90  58136079.46\n",
       "model_3  9.088143     1.056470  0.174228  58099069.67  58099187.36"
      ]
     },
     "execution_count": 37,
     "metadata": {},
     "output_type": "execute_result"
    }
   ],
   "source": [
    "# Fit a Gaussian mixture model to data\n",
    "\n",
    "data2log = datalog2.reshape(-1, 1)\n",
    "N = np.arange(1, 4)\n",
    "models = [None for i in range(len(N))]\n",
    "\n",
    "for i in range(len(N)):\n",
    "    models[i] = GMM(N[i]).fit(data2log)\n",
    "\n",
    "g = GMM(n_components=3, covariance_type='full')\n",
    "clf = g.fit(data2log)\n",
    "\n",
    "means = clf.means_.flatten()\n",
    "covariances = clf.covariances_.flatten()\n",
    "weights = clf.weights_.flatten()\n",
    "\n",
    "AIC = [round(m.aic(data2log), 2) for m in models]\n",
    "BIC = [round(m.bic(data2log), 2) for m in models]\n",
    "# print('aic = ' + str(AIC))\n",
    "# print('bic = ' + str(BIC))\n",
    "\n",
    "index= ['model_1', 'model_2', 'model_3']\n",
    "df = pd.DataFrame({'Means': means, 'Covariances': covariances, 'Weights': weights, 'AIC':AIC, 'BIC':BIC}, index=index)\n",
    "mat = np.random.rand(3, 3)\n",
    "df.join(pd.DataFrame(mat))\n",
    "df\n",
    "\n"
   ]
  },
  {
   "cell_type": "code",
   "execution_count": null,
   "metadata": {},
   "outputs": [],
   "source": []
  }
 ],
 "metadata": {
  "kernelspec": {
   "display_name": "Python 3",
   "language": "python",
   "name": "python3"
  },
  "language_info": {
   "codemirror_mode": {
    "name": "ipython",
    "version": 3
   },
   "file_extension": ".py",
   "mimetype": "text/x-python",
   "name": "python",
   "nbconvert_exporter": "python",
   "pygments_lexer": "ipython3",
   "version": "3.6.8"
  }
 },
 "nbformat": 4,
 "nbformat_minor": 2
}
