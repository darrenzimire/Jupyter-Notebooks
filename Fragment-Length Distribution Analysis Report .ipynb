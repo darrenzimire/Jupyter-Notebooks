{
 "cells": [
  {
   "cell_type": "markdown",
   "metadata": {},
   "source": [
    "### Introduction: Analysis report for modeling the fragment-length distributions of public RNA-seq data \n",
    "\n",
    "In this notebook I walk through fitting statistical distribution models to public RNA-sequencing data. The resulting models are used for simulating synthetic RNA-seq data. \n",
    "\n"
   ]
  },
  {
   "cell_type": "markdown",
   "metadata": {},
   "source": [
    "#### Imports \n",
    "\n",
    "The following standard data science, machine-learning and visualization libraries in Python will be used namely: Pandas, sklearn, numpy, scipy and matplotlib\n"
   ]
  },
  {
   "cell_type": "code",
   "execution_count": null,
   "metadata": {},
   "outputs": [],
   "source": [
    "import numpy as np\n",
    "import os\n",
    "import matplotlib.pyplot as plt\n",
    "from sklearn.preprocessing import StandardScaler\n",
    "from sklearn.mixture import GaussianMixture as GMM\n",
    "from scipy.stats import norm\n"
   ]
  },
  {
   "cell_type": "markdown",
   "metadata": {},
   "source": []
  },
  {
   "cell_type": "code",
   "execution_count": null,
   "metadata": {},
   "outputs": [],
   "source": [
    "samFile = ''\n",
    "for file in os.listdir('.'):\n",
    "    if file.endswith('.sam'):\n",
    "        samFile = os.path.join('.', file)\n",
    "\n",
    "FL = []\n",
    "f = open(samFile, 'r')\n",
    "for line in f:\n",
    "\n",
    "    if line[0] != '@':\n",
    "        parts = line.split('\\t')\n",
    "        TLEN = parts[8]\n",
    "        FL.append(TLEN)\n",
    "\n",
    "FL = list(map(int, FL))\n",
    "FLS = FL.sort()\n",
    "NEG = []\n",
    "POS = []\n",
    "\n",
    "for i in FL:\n",
    "    if i < 0:\n",
    "        NEG.append(i)\n",
    "    else:\n",
    "        POS.append(i)\n",
    "\n",
    "data = np.array(POS)\n",
    "datalog = np.log(data)\n",
    "# datalog = datalog.reshape(-1, 1)\n",
    "# print(type(datalog))\n",
    "print(len(datalog))"
   ]
  }
 ],
 "metadata": {
  "kernelspec": {
   "display_name": "Python 3",
   "language": "python",
   "name": "python3"
  },
  "language_info": {
   "codemirror_mode": {
    "name": "ipython",
    "version": 3
   },
   "file_extension": ".py",
   "mimetype": "text/x-python",
   "name": "python",
   "nbconvert_exporter": "python",
   "pygments_lexer": "ipython3",
   "version": "3.6.8"
  }
 },
 "nbformat": 4,
 "nbformat_minor": 2
}
